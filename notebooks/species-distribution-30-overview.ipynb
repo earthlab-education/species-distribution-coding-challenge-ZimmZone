{
  "cells": [
    {
      "cell_type": "markdown",
      "id": "b7e7dc48-3ce6-452d-bd75-09fca2f00c2b",
      "metadata": {},
      "source": [
        "# \n",
        "\n",
        "<link rel=\"stylesheet\" type=\"text/css\" href=\"./assets/styles.css\"><div class=\"callout callout-style-default callout-titled callout-response\"><div class=\"callout-header\"><div class=\"callout-icon-container\"><i class=\"callout-icon\"></i></div><div class=\"callout-title-container flex-fill\">What can we learn from migration patterns?</div></div><div class=\"callout-body-container callout-body\"><p>In the cell below, reflect on what you know about migration. You\n",
        "could consider:</p>\n",
        "<ol type=\"1\">\n",
        "<li>What are some reasons that animals migrate?</li>\n",
        "<li>How might climate change affect animal migrations?</li>\n",
        "<li>Do you notice any animal migrations in your area?</li>\n",
        "</ol></div></div>"
      ]
    },
    {
      "cell_type": "markdown",
      "id": "09ea9f1d-2434-41ec-9d7b-65eb3153d6d6",
      "metadata": {},
      "source": [
        "YOUR ANSWER HERE"
      ]
    },
    {
      "cell_type": "markdown",
      "id": "dc57d9ee",
      "metadata": {},
      "source": [
        "1. Weather or following food sources. Some animals, like salmon, also migrate to breed. \n",
        "2. As the weather changes, migratory paths and timing will be impacted. Likewise, if a species is dependent upon another for food and their migration or growing season is impacted it will have a flow on impact. \n",
        "3. Yes, there are several migrations in my area. We have bald eagels and red-winged balck birds that move south during the winter. We also have elk that move out of the Rocky Mountains an onto the plains (and occasionally into our backyard)"
      ]
    }
  ],
  "metadata": {
    "kernelspec": {
      "display_name": "Python 3",
      "language": "python",
      "name": "python3"
    }
  },
  "nbformat": 4,
  "nbformat_minor": 5
}
